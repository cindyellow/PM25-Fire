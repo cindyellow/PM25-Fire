{
 "cells": [
  {
   "cell_type": "markdown",
   "metadata": {},
   "source": [
    "# Modelling Results \n",
    "[06/16/2023]"
   ]
  },
  {
   "cell_type": "markdown",
   "metadata": {},
   "source": [
    "## Methodology\n",
    "\n",
    "### Data\n",
    "\n",
    "The data used for modelling are MISR data with (1) species concentration and (2) PM2.5 concentration from 2000-2021. Both datasets are then merged with daily information on fire clusters and smoke plumes that are close to each site. Each dataset is linked below for future reproduction of the experiments.\n",
    "\n",
    "- [Original MISR_CSN data](https://github.com/cindyellow/PM25-Fire/blob/main/data/merged/MergedAll_MISR_CSN_2000_2021.csv)\n",
    "- [Original MISR_AQS data](https://github.com/cindyellow/PM25-Fire/blob/main/data/merged/MergedAll_MISR_AQS_2000_2021.zip)\n",
    "- [MISR_CSN with AOD imputed](https://github.com/cindyellow/PM25-Fire/blob/main/data/imputed/misr-csn_aod-only_imputed.csv)\n",
    "- [MISR_CSN with AOD products imputed](https://github.com/cindyellow/PM25-Fire/blob/main/data/imputed/misr-aqs_aod-prod_imputed.zip)\n",
    "- [MISR_AQS with AOD imputed](https://github.com/cindyellow/PM25-Fire/blob/main/data/imputed/misr-aqs_aod-only_imputed.zip)\n",
    "- [MISR_AQS with AOD products imputed](https://github.com/cindyellow/PM25-Fire/blob/main/data/imputed/misr-aqs_aod-prod_imputed.zip)\n",
    "\n",
    "### Features\n",
    "Variables used in modelling include:\n",
    "- Temporal: year, month\n",
    "- Spatial: site longitude, site latitude, elevation\n",
    "- Fire: distance (km) to closest fire cluster, average & variance of closest cluster's FRP, number of points in closest cluster\n",
    "- Smoke: binary variables for whether the site lies in light, medium, and/or heavy smoke plume\n",
    "- AOD: AOD, AOD products\n",
    "- Other: land code of site (representing ecosystem), sampling method (POC)\n",
    "\n",
    "### Transformation & Imputation\n",
    "All continuous independent variables are transformed using the [Standard Scaler](https://scikit-learn.org/stable/modules/generated/sklearn.preprocessing.StandardScaler.html#sklearn.preprocessing.StandardScaler.fit_transform) and categorical features are one-hot encoded. We also noticed a heavily right-skewed distribution for the target variables, so we log-transformed them during modelling.\n",
    "\n",
    "Since there were a lot of missing values for AOD, imputation was also attempted to see if it helps with model performance. Values were imputed using KNN examining its 10 most similar neighbors. Since KNN is robust to outliers, they were not removed in this step. In the experiments below, we will be comparing models fit on non-imputed data (i.e. dataset with non-NAs for AOD features) and imputed data (i.e. dataset including all observations, imputing NAs for AOD).\n",
    "\n",
    "### Training the models\n",
    "\n",
    "Data was split into 70% training and 30% test. Since the purpose of these models at the moment is to investigate the importance of AOD, fire, and smoke information for predicting concentration, we only experimented with XGBoost and Random Forest to maintain interpretability. More complex models can be fitted later on if desired. \n",
    "\n",
    "In our case, outliers are defined as values 3 times the 75th percentile of the variable. They were removed from the non-imputed and imputed datasets prior to training. Missing values for non-AOD variables (including the target) were also dropped as we did not have the means to impute them.\n",
    "\n"
   ]
  },
  {
   "cell_type": "markdown",
   "metadata": {},
   "source": [
    "## Species"
   ]
  },
  {
   "cell_type": "markdown",
   "metadata": {},
   "source": [
    "### Outliers Summary\n",
    "\n",
    "| Species | # Non-NAs (Imputed Model) | # Outliers Removed (Imputed Model) | Outlier Cutoff (Imputed Model)| \n",
    "| -------- | ------- | ------- | ------- |\n",
    "| Sulfate | 1654 (complete data amt) | 29 (92) | 5.61 (5.04) |\n",
    "| Nitrate | 1645 | 107 (310) | 9.15 (10.32) |\n",
    "| Dust | 1662 | 35 (137) | 4.10 (3.23) |\n",
    "| EC | 338 | 2 (16) | 3.27 (3.32) |\n",
    "| OC | 338 | 3 (13) | 12.17 (10.95) |"
   ]
  },
  {
   "cell_type": "markdown",
   "metadata": {},
   "source": [
    "### Imputation & Feature Group\n",
    "\n",
    "There are a total of 3580 observations imputed for AOD & AOD products using 1709 non-NAs. Displayed below are the best R2 for the original and imputed models between the two feature groups (AOD vs. AOD products). The best feature group and model are selected by comparing the two R2 value for each species.\n",
    "\n",
    "| Species | Original R2 | Imputed R2 | Original RMSE | Imputed RMSE | Best Feature Group | Best Model |\n",
    "| -------- | ------- | ------- | ------- | ------- | ------- | ------- |\n",
    "| Sulfate | **0.69** | 0.45 | 0.21 | 0.26 | aod | Random Forest |\n",
    "| Nitrate | **0.61** | 0.44 | 0.34 | 0.45 | aod-prod | Random Forest |\n",
    "| Dust | 0.34 | **0.36** | 0.26 | 0.25 | aod | Random Forest |\n",
    "| EC | **0.58** | 0.45 | 0.19 | 0.23 | aod | Random Forest |\n",
    "| OC | 0.22 | **0.27** | 0.35 | 0.4 | aod-prod | Random Forest |\n",
    "\n",
    "- For sulfate, nitrate, and EC, imputation does not improve model performance on unseen data, whereas some improvement in R2 is seen for dust and OC (at the cost of RMSE for the latter). \n",
    "- Using AOD product features outperforms using AOD for nitrate and OC, but only marginally. Since OC requires imputation, it is better to still opt for the simpler model using only AOD."
   ]
  },
  {
   "cell_type": "markdown",
   "metadata": {},
   "source": [
    "### Variable Importance & Fitted vs True Graphs\n",
    "\n",
    "Here, we take a look at the 10 most important variables and the graph of the test set's fitted versus true values for each species' best model.  Dark blue denotes the one-to-one line whereas light blue indicates the fitted linear regression line.\n",
    "\n",
    "1. Sulfate\n",
    "\n",
    "<img src=\"../img/sulfate/ft-imp/sulfate-aod_only-ft_imp_rf.png\" width=\"450\" height=\"400\"/> <img src=\"../img/sulfate/fitted/sulfate-fitted_rf.png\" width=\"450\" height=\"400\"/> \n",
    "\n",
    "\n",
    "2. Nitrate\n",
    "\n",
    "<img src=\"../img/nitrate/ft-imp/nitrate-aod_only-ft_imp_rf.png\" width=\"450\" height=\"400\"/> <img src=\"../img/nitrate/fitted/nitrate-fitted_rf.png\" width=\"450\" height=\"400\"/> \n",
    "\n",
    "3. Dust\n",
    "\n",
    "<img src=\"../img/imputed/ft-imp/dust-aod_only-ft_imp_rf.png\" width=\"450\" height=\"400\"/><img src=\"../img/imputed/fitted/dust-aod_only-fitted_rf.png\" width=\"450\" height=\"400\"/>\n",
    "\n",
    "4. EC\n",
    "\n",
    "<img src=\"../img/EC/ft-imp/EC-aod_only-ft_imp_rf.png\" width=\"450\" height=\"400\"/> <img src=\"../img/EC/fitted/EC-fitted_rf.png\" width=\"450\" height=\"400\"/> \n",
    "\n",
    "5. OC\n",
    "\n",
    "<img src=\"../img/imputed/ft-imp/OC-aod_prod-ft_imp_rf.png\" width=\"450\" height=\"400\"/><img src=\"../img/imputed/fitted/OC-aod_prod-fitted_rf.png\" width=\"450\" height=\"400\"/>\n",
    "\n",
    "\n",
    "- AOD is always in the top 2 when used in the model. \n",
    "- Month and year are usually in the top 3 important features as well, followed by site location.\n",
    "- Number of points in the fire cluster covering the site is the most important among fire/smoke variables.\n",
    "- Distance to closest fire follows.\n",
    "- Average FRP is often in the top 10.\n",
    "- Smoke only appears in the top 10 for nitrate.\n",
    "- For dust and OC, the fitted models tend to overestimate values."
   ]
  },
  {
   "cell_type": "markdown",
   "metadata": {},
   "source": [
    "## PM25 Mass"
   ]
  },
  {
   "cell_type": "markdown",
   "metadata": {},
   "source": [
    "### Outliers\n",
    "- 916 outliers for PM2.5 were removed under the cutoff 38.1 in the model fitted on non-NAs. In the imputed model, there were 3894 outliers removed with the cutoff 37.37.\n",
    "- Values less than 0 were replaced with 0 since they are likely due to error."
   ]
  },
  {
   "cell_type": "markdown",
   "metadata": {},
   "source": [
    "### Imputation & Feature Group"
   ]
  },
  {
   "cell_type": "markdown",
   "metadata": {},
   "source": [
    "For modelling, we performed the same procedure as for species concentration. Displayed below are the respective performance for each feature group: \n",
    "\n",
    "| Original R2 | Imputed R2 | Original RMSE | Imputed RMSE | Feature Group | Best Model |\n",
    "| ------- | ------- | ------- | ------- | ------- | ------- |\n",
    "| **0.76** | 0.63 | 0.27 | 0.38 | aod | Random Forest |\n",
    "| **0.74** | 0.65 | 0.29 | 0.36 | aod-prod | Random Forest |\n",
    "\n",
    "In both cases, the model built on imputed data does not outperform the base model, so we should opt for modelling with non-NAs using only the AOD variable."
   ]
  },
  {
   "cell_type": "markdown",
   "metadata": {},
   "source": [
    "### Variable Importance\n",
    "\n",
    "Now, let's take a look at the 10 most important features for the best model.\n",
    "\n",
    "<img src=\"../img/PM25/PM25-aod_only-ft_imp_rf.png\" width=\"450\" height=\"400\"/><img src=\"../img/PM25/PM25-aod_only-fitted_rf.png\" width=\"450\" height=\"400\"/>\n",
    "\n",
    "- We see similar variables as for all the species models.\n",
    "- [Land code 81](https://www.mrlc.gov/data/legends/national-land-cover-database-class-legend-and-description) also appeared as significant. It refers to the ecosystem consisting of \"pasture/hay-areas of grasses, legumes, or grass-legume mixtures planted for livestock grazing or the production of seed or hay crops, typically on a perennial cycle. Pasture/hay vegetation accounts for greater than 20% of total vegetation.\""
   ]
  }
 ],
 "metadata": {
  "kernelspec": {
   "display_name": "Python 3.10.7 ('pm25_env': venv)",
   "language": "python",
   "name": "python3"
  },
  "language_info": {
   "codemirror_mode": {
    "name": "ipython",
    "version": 3
   },
   "file_extension": ".py",
   "mimetype": "text/x-python",
   "name": "python",
   "nbconvert_exporter": "python",
   "pygments_lexer": "ipython3",
   "version": "3.10.7"
  },
  "orig_nbformat": 4,
  "vscode": {
   "interpreter": {
    "hash": "1fac67311b4cc10997fea86fc0b9eb288af40e01f124fdfff4a14908eb39f0c1"
   }
  }
 },
 "nbformat": 4,
 "nbformat_minor": 2
}
